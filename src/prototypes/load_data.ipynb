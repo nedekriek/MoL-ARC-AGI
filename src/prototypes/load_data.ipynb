{
 "cells": [
  {
   "cell_type": "code",
   "execution_count": null,
   "metadata": {},
   "outputs": [],
   "source": [
    "import json\n",
    "import os\n",
    "import numpy as np\n",
    "from concurrent.futures import ThreadPoolExecutor"
   ]
  },
  {
   "cell_type": "code",
   "execution_count": null,
   "metadata": {},
   "outputs": [],
   "source": [
    "# Define the file path\n",
    "directory = '../../../ARC-AGI/data/training/'\n",
    "\n",
    "\n",
    "# Convert 'train' and 'test' data within the task dictionary from lists to numpy arrays\n",
    "def convert_task_to_numpy_arrays(task):\n",
    "    if 'train' in task:\n",
    "        for i in range(len(task['train'])):\n",
    "            task['train'][i]['input'] = np.array(task['train'][i]['input'], dtype=np.uint8)\n",
    "            task['train'][i]['output'] = np.array(task['train'][i]['output'], dtype=np.uint8)\n",
    "    if 'test' in task:\n",
    "        for i in range(len(task['test'])):\n",
    "            task['test'][i]['input'] = np.array(task['test'][i]['input'], dtype=np.uint8)\n",
    "            task['test'][i]['output'] = np.array(task['test'][i]['output'], dtype=np.uint8)\n",
    "    \n",
    "    return task\n",
    "\n",
    "# Load the JSON file\n",
    "def safe_load_json(file_path):\n",
    "    try:\n",
    "        with open(file_path, 'r') as file:\n",
    "            return json.load(file)\n",
    "    except FileNotFoundError as e:\n",
    "        print(f\"File not found: {file_path}\")\n",
    "        return None\n",
    "    except json.JSONDecodeError as e:\n",
    "        print(f\"Error decoding JSON from {file_path}: {e}\")\n",
    "        return None\n",
    "    \n",
    "# Load Files concurrently\n",
    "def load_all_json_files_concurrently(directory):\n",
    "    json_files_names = list(entry.name for entry in os.scandir(directory) if entry.is_file() and entry.name.endswith('.json'))\n",
    "    json_files_paths = [os.path.join(directory, file) for file in json_files_names]\n",
    "    \n",
    "    with ThreadPoolExecutor() as executor:\n",
    "        data = dict(zip(json_files_names, executor.map(safe_load_json, json_files_paths)))\n",
    "    \n",
    "    return data\n",
    "\n",
    "# Print the loaded data\n",
    "data = load_all_json_files_concurrently(directory)\n"
   ]
  },
  {
   "cell_type": "code",
   "execution_count": null,
   "metadata": {},
   "outputs": [],
   "source": [
    "# Example of how to access the data\n",
    "task = data[\"f35d900a.json\"]\n",
    "print(task)\n",
    "\n",
    "\n",
    "formatted_task = convert_task_to_numpy_arrays(task)\n",
    "print (formatted_task)"
   ]
  },
  {
   "cell_type": "code",
   "execution_count": null,
   "metadata": {},
   "outputs": [],
   "source": [
    "test_data_point = data[\"29ec7d0e.json\"]['test'][0][\"input\"]"
   ]
  },
  {
   "cell_type": "code",
   "execution_count": null,
   "metadata": {},
   "outputs": [],
   "source": [
    "import cv2\n",
    "import matplotlib.pyplot as plt\n",
    "\n",
    "def convert_to_image(data_point):\n",
    "    # Define a color map for numbers 0 to 9\n",
    "    color_map = {\n",
    "        0: (0, 0, 0),       # Black\n",
    "        1: (255, 146, 30),  # Blue\n",
    "        2: (49, 60, 248),   # Red\n",
    "        3: (46, 205, 79),   # Green\n",
    "        4: (0, 220, 254),   # Yellow\n",
    "        5: (153, 153, 153), # Gray\n",
    "        6: (164, 58, 229),  # Pink \n",
    "        7: (26, 132, 255),  # Orange\n",
    "        8: (242, 216, 135), # Light Blue\n",
    "        9: (51, 17, 149),   # Maroon\n",
    "    }\n",
    "    # Convert the data point to a NumPy array if it's not already\n",
    "    if not isinstance(data_point, np.ndarray):\n",
    "        data_point = np.array(data_point, dtype=np.uint8)\n",
    "\n",
    "    # Create a color map array\n",
    "    color_map_array = np.array([color_map[i] for i in range(10)], dtype=np.uint8)\n",
    "\n",
    "    # Map the numbers to colors using advanced indexing\n",
    "    image = color_map_array[data_point]\n",
    "    return image\n",
    "\n",
    "# Helper display function for notebooks\n",
    "def display_image(image):\n",
    "    # Convert the image from BGR (OpenCV format) to RGB (matplotlib format)\n",
    "    image = cv2.cvtColor(image, cv2.COLOR_BGR2RGB)\n",
    "\n",
    "    # Display the image using matplotlib\n",
    "    plt.imshow(image)\n",
    "    plt.axis('off')  # Hide the axis\n",
    "    plt.show()\n",
    "   \n",
    "\n",
    "# Example usage\n",
    "image = convert_to_image(test_data_point)\n",
    "display_image(image)"
   ]
  }
 ],
 "metadata": {
  "kernelspec": {
   "display_name": ".venv",
   "language": "python",
   "name": "python3"
  },
  "language_info": {
   "codemirror_mode": {
    "name": "ipython",
    "version": 3
   },
   "file_extension": ".py",
   "mimetype": "text/x-python",
   "name": "python",
   "nbconvert_exporter": "python",
   "pygments_lexer": "ipython3",
   "version": "3.12.8"
  }
 },
 "nbformat": 4,
 "nbformat_minor": 2
}
