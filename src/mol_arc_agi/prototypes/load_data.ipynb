{
 "cells": [
  {
   "cell_type": "code",
   "execution_count": null,
   "metadata": {},
   "outputs": [],
   "source": [
    "import json\n",
    "import os\n",
    "import numpy as np\n",
    "from concurrent.futures import ThreadPoolExecutor"
   ]
  },
  {
   "cell_type": "code",
   "execution_count": null,
   "metadata": {},
   "outputs": [],
   "source": [
    "# Define the file path\n",
    "directory = '../../ARC-AGI/data/training/'\n",
    "\n",
    "# Load the JSON file\n",
    "def load_json(file_path):\n",
    "    with open(file_path, 'r') as file:\n",
    "        data = json.load(file)\n",
    "\n",
    "        # Convert the input and output from serialize  lists to deserialize numpy arrays\n",
    "        if 'train' in data:\n",
    "            for i in range(len(data['train'])):\n",
    "                data['train'][i]['input'] = np.array(data['train'][i]['input'])\n",
    "                data['train'][i]['output'] = np.array(data['train'][i]['output'])\n",
    "        if 'test' in data:\n",
    "            for i in range(len(data['test'])):\n",
    "                data['test'][i]['input'] = np.array(data['test'][i]['input'])\n",
    "                data['test'][i]['output'] = np.array(data['test'][i]['output']) \n",
    "        return data\n",
    "    \n",
    "# Load Files concurrently\n",
    "def load_all_json_files(directory):\n",
    "    json_files_names = [file for file in os.listdir(directory) if file.endswith('.json')]\n",
    "    json_files_paths = [os.path.join(directory, file) for file in json_files_names]\n",
    "    \n",
    "    with ThreadPoolExecutor() as executor:\n",
    "        data = dict(zip(json_files_names,executor.map(load_json, json_files_paths)))\n",
    "    \n",
    "    return data\n",
    "\n",
    "# Print the loaded data\n",
    "data = load_all_json_files(directory)\n"
   ]
  },
  {
   "cell_type": "code",
   "execution_count": null,
   "metadata": {},
   "outputs": [],
   "source": [
    "# Example of how to access the data\n",
    "print(data[\"f35d900a.json\"]['train'][0]['input'].shape) "
   ]
  },
  {
   "cell_type": "code",
   "execution_count": null,
   "metadata": {},
   "outputs": [],
   "source": []
  }
 ],
 "metadata": {
  "kernelspec": {
   "display_name": ".venv",
   "language": "python",
   "name": "python3"
  },
  "language_info": {
   "codemirror_mode": {
    "name": "ipython",
    "version": 3
   },
   "file_extension": ".py",
   "mimetype": "text/x-python",
   "name": "python",
   "nbconvert_exporter": "python",
   "pygments_lexer": "ipython3",
   "version": "3.12.8"
  }
 },
 "nbformat": 4,
 "nbformat_minor": 2
}
